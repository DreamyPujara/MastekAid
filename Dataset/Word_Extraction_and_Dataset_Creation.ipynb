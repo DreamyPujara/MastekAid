{
  "nbformat": 4,
  "nbformat_minor": 0,
  "metadata": {
    "colab": {
      "provenance": []
    },
    "kernelspec": {
      "name": "python3",
      "display_name": "Python 3"
    },
    "language_info": {
      "name": "python"
    }
  },
  "cells": [
    {
      "cell_type": "code",
      "execution_count": 1,
      "metadata": {
        "colab": {
          "base_uri": "https://localhost:8080/"
        },
        "id": "7PFHO908q-6C",
        "outputId": "8469a802-02bd-49a9-ac3f-100d7a658cd0"
      },
      "outputs": [
        {
          "output_type": "stream",
          "name": "stdout",
          "text": [
            "Requirement already satisfied: nltk in /usr/local/lib/python3.10/dist-packages (3.9.1)\n",
            "Requirement already satisfied: click in /usr/local/lib/python3.10/dist-packages (from nltk) (8.1.7)\n",
            "Requirement already satisfied: joblib in /usr/local/lib/python3.10/dist-packages (from nltk) (1.4.2)\n",
            "Requirement already satisfied: regex>=2021.8.3 in /usr/local/lib/python3.10/dist-packages (from nltk) (2024.9.11)\n",
            "Requirement already satisfied: tqdm in /usr/local/lib/python3.10/dist-packages (from nltk) (4.66.6)\n"
          ]
        }
      ],
      "source": [
        "!pip install nltk"
      ]
    },
    {
      "cell_type": "code",
      "source": [
        "# prompt: code to replace some words with another from a csv file.\n",
        "\n",
        "import pandas as pd\n",
        "input_filepath = \"/content/Barnet.csv\"\n",
        "replacements_filepath = \"/content/ClientA.csv\"\n",
        "output_filepath = \"/content/ClientA.csv\"\n",
        "def replace_words_from_csv(input_filepath, replacements_filepath, output_filepath):\n",
        "\n",
        "        # Read the CSV file into a pandas DataFrame\n",
        "  replacements_df = pd.read_csv(replacements_filepath)\n",
        "\n",
        "        # Create a dictionary for efficient word replacement\n",
        "  replacements_dict = dict(zip(replacements_df['Barnet'], replacements_df['Client A']))\n",
        "\n",
        "  with open(input_filepath, 'r') as infile, open(output_filepath, 'w') as outfile:\n",
        "      for line in infile:\n",
        "            new_line = line\n",
        "            for original_word, replacement_word in replacements_dict.items():\n",
        "                new_line = new_line.replace(original_word, replacement_word)\n",
        "            outfile.write(new_line)\n",
        "\n",
        "\n",
        "# Example usage\n",
        "replace_words_from_csv(\"/content/Barnet.csv\",\"/content/ClientA.csv\",\"/content/ClientA.csv\")"
      ],
      "metadata": {
        "colab": {
          "base_uri": "https://localhost:8080/",
          "height": 617
        },
        "id": "HdolyrsT2mJ9",
        "outputId": "e7f52630-01c8-4526-e784-11e8adb2eaf8"
      },
      "execution_count": 14,
      "outputs": [
        {
          "output_type": "error",
          "ename": "KeyError",
          "evalue": "'Barnet'",
          "traceback": [
            "\u001b[0;31m---------------------------------------------------------------------------\u001b[0m",
            "\u001b[0;31mKeyError\u001b[0m                                  Traceback (most recent call last)",
            "\u001b[0;32m/usr/local/lib/python3.10/dist-packages/pandas/core/indexes/base.py\u001b[0m in \u001b[0;36mget_loc\u001b[0;34m(self, key)\u001b[0m\n\u001b[1;32m   3804\u001b[0m         \u001b[0;32mtry\u001b[0m\u001b[0;34m:\u001b[0m\u001b[0;34m\u001b[0m\u001b[0;34m\u001b[0m\u001b[0m\n\u001b[0;32m-> 3805\u001b[0;31m             \u001b[0;32mreturn\u001b[0m \u001b[0mself\u001b[0m\u001b[0;34m.\u001b[0m\u001b[0m_engine\u001b[0m\u001b[0;34m.\u001b[0m\u001b[0mget_loc\u001b[0m\u001b[0;34m(\u001b[0m\u001b[0mcasted_key\u001b[0m\u001b[0;34m)\u001b[0m\u001b[0;34m\u001b[0m\u001b[0;34m\u001b[0m\u001b[0m\n\u001b[0m\u001b[1;32m   3806\u001b[0m         \u001b[0;32mexcept\u001b[0m \u001b[0mKeyError\u001b[0m \u001b[0;32mas\u001b[0m \u001b[0merr\u001b[0m\u001b[0;34m:\u001b[0m\u001b[0;34m\u001b[0m\u001b[0;34m\u001b[0m\u001b[0m\n",
            "\u001b[0;32mindex.pyx\u001b[0m in \u001b[0;36mpandas._libs.index.IndexEngine.get_loc\u001b[0;34m()\u001b[0m\n",
            "\u001b[0;32mindex.pyx\u001b[0m in \u001b[0;36mpandas._libs.index.IndexEngine.get_loc\u001b[0;34m()\u001b[0m\n",
            "\u001b[0;32mpandas/_libs/hashtable_class_helper.pxi\u001b[0m in \u001b[0;36mpandas._libs.hashtable.PyObjectHashTable.get_item\u001b[0;34m()\u001b[0m\n",
            "\u001b[0;32mpandas/_libs/hashtable_class_helper.pxi\u001b[0m in \u001b[0;36mpandas._libs.hashtable.PyObjectHashTable.get_item\u001b[0;34m()\u001b[0m\n",
            "\u001b[0;31mKeyError\u001b[0m: 'Barnet'",
            "\nThe above exception was the direct cause of the following exception:\n",
            "\u001b[0;31mKeyError\u001b[0m                                  Traceback (most recent call last)",
            "\u001b[0;32m<ipython-input-14-1a33fc6c36a3>\u001b[0m in \u001b[0;36m<cell line: 24>\u001b[0;34m()\u001b[0m\n\u001b[1;32m     22\u001b[0m \u001b[0;34m\u001b[0m\u001b[0m\n\u001b[1;32m     23\u001b[0m \u001b[0;31m# Example usage\u001b[0m\u001b[0;34m\u001b[0m\u001b[0;34m\u001b[0m\u001b[0m\n\u001b[0;32m---> 24\u001b[0;31m \u001b[0mreplace_words_from_csv\u001b[0m\u001b[0;34m(\u001b[0m\u001b[0;34m\"/content/Barnet.csv\"\u001b[0m\u001b[0;34m,\u001b[0m\u001b[0;34m\"/content/ClientA.csv\"\u001b[0m\u001b[0;34m,\u001b[0m\u001b[0;34m\"/content/ClientA.csv\"\u001b[0m\u001b[0;34m)\u001b[0m\u001b[0;34m\u001b[0m\u001b[0;34m\u001b[0m\u001b[0m\n\u001b[0m",
            "\u001b[0;32m<ipython-input-14-1a33fc6c36a3>\u001b[0m in \u001b[0;36mreplace_words_from_csv\u001b[0;34m(input_filepath, replacements_filepath, output_filepath)\u001b[0m\n\u001b[1;32m     11\u001b[0m \u001b[0;34m\u001b[0m\u001b[0m\n\u001b[1;32m     12\u001b[0m         \u001b[0;31m# Create a dictionary for efficient word replacement\u001b[0m\u001b[0;34m\u001b[0m\u001b[0;34m\u001b[0m\u001b[0m\n\u001b[0;32m---> 13\u001b[0;31m   \u001b[0mreplacements_dict\u001b[0m \u001b[0;34m=\u001b[0m \u001b[0mdict\u001b[0m\u001b[0;34m(\u001b[0m\u001b[0mzip\u001b[0m\u001b[0;34m(\u001b[0m\u001b[0mreplacements_df\u001b[0m\u001b[0;34m[\u001b[0m\u001b[0;34m'Barnet'\u001b[0m\u001b[0;34m]\u001b[0m\u001b[0;34m,\u001b[0m \u001b[0mreplacements_df\u001b[0m\u001b[0;34m[\u001b[0m\u001b[0;34m'Client A'\u001b[0m\u001b[0;34m]\u001b[0m\u001b[0;34m)\u001b[0m\u001b[0;34m)\u001b[0m\u001b[0;34m\u001b[0m\u001b[0;34m\u001b[0m\u001b[0m\n\u001b[0m\u001b[1;32m     14\u001b[0m \u001b[0;34m\u001b[0m\u001b[0m\n\u001b[1;32m     15\u001b[0m   \u001b[0;32mwith\u001b[0m \u001b[0mopen\u001b[0m\u001b[0;34m(\u001b[0m\u001b[0minput_filepath\u001b[0m\u001b[0;34m,\u001b[0m \u001b[0;34m'r'\u001b[0m\u001b[0;34m)\u001b[0m \u001b[0;32mas\u001b[0m \u001b[0minfile\u001b[0m\u001b[0;34m,\u001b[0m \u001b[0mopen\u001b[0m\u001b[0;34m(\u001b[0m\u001b[0moutput_filepath\u001b[0m\u001b[0;34m,\u001b[0m \u001b[0;34m'w'\u001b[0m\u001b[0;34m)\u001b[0m \u001b[0;32mas\u001b[0m \u001b[0moutfile\u001b[0m\u001b[0;34m:\u001b[0m\u001b[0;34m\u001b[0m\u001b[0;34m\u001b[0m\u001b[0m\n",
            "\u001b[0;32m/usr/local/lib/python3.10/dist-packages/pandas/core/frame.py\u001b[0m in \u001b[0;36m__getitem__\u001b[0;34m(self, key)\u001b[0m\n\u001b[1;32m   4100\u001b[0m             \u001b[0;32mif\u001b[0m \u001b[0mself\u001b[0m\u001b[0;34m.\u001b[0m\u001b[0mcolumns\u001b[0m\u001b[0;34m.\u001b[0m\u001b[0mnlevels\u001b[0m \u001b[0;34m>\u001b[0m \u001b[0;36m1\u001b[0m\u001b[0;34m:\u001b[0m\u001b[0;34m\u001b[0m\u001b[0;34m\u001b[0m\u001b[0m\n\u001b[1;32m   4101\u001b[0m                 \u001b[0;32mreturn\u001b[0m \u001b[0mself\u001b[0m\u001b[0;34m.\u001b[0m\u001b[0m_getitem_multilevel\u001b[0m\u001b[0;34m(\u001b[0m\u001b[0mkey\u001b[0m\u001b[0;34m)\u001b[0m\u001b[0;34m\u001b[0m\u001b[0;34m\u001b[0m\u001b[0m\n\u001b[0;32m-> 4102\u001b[0;31m             \u001b[0mindexer\u001b[0m \u001b[0;34m=\u001b[0m \u001b[0mself\u001b[0m\u001b[0;34m.\u001b[0m\u001b[0mcolumns\u001b[0m\u001b[0;34m.\u001b[0m\u001b[0mget_loc\u001b[0m\u001b[0;34m(\u001b[0m\u001b[0mkey\u001b[0m\u001b[0;34m)\u001b[0m\u001b[0;34m\u001b[0m\u001b[0;34m\u001b[0m\u001b[0m\n\u001b[0m\u001b[1;32m   4103\u001b[0m             \u001b[0;32mif\u001b[0m \u001b[0mis_integer\u001b[0m\u001b[0;34m(\u001b[0m\u001b[0mindexer\u001b[0m\u001b[0;34m)\u001b[0m\u001b[0;34m:\u001b[0m\u001b[0;34m\u001b[0m\u001b[0;34m\u001b[0m\u001b[0m\n\u001b[1;32m   4104\u001b[0m                 \u001b[0mindexer\u001b[0m \u001b[0;34m=\u001b[0m \u001b[0;34m[\u001b[0m\u001b[0mindexer\u001b[0m\u001b[0;34m]\u001b[0m\u001b[0;34m\u001b[0m\u001b[0;34m\u001b[0m\u001b[0m\n",
            "\u001b[0;32m/usr/local/lib/python3.10/dist-packages/pandas/core/indexes/base.py\u001b[0m in \u001b[0;36mget_loc\u001b[0;34m(self, key)\u001b[0m\n\u001b[1;32m   3810\u001b[0m             ):\n\u001b[1;32m   3811\u001b[0m                 \u001b[0;32mraise\u001b[0m \u001b[0mInvalidIndexError\u001b[0m\u001b[0;34m(\u001b[0m\u001b[0mkey\u001b[0m\u001b[0;34m)\u001b[0m\u001b[0;34m\u001b[0m\u001b[0;34m\u001b[0m\u001b[0m\n\u001b[0;32m-> 3812\u001b[0;31m             \u001b[0;32mraise\u001b[0m \u001b[0mKeyError\u001b[0m\u001b[0;34m(\u001b[0m\u001b[0mkey\u001b[0m\u001b[0;34m)\u001b[0m \u001b[0;32mfrom\u001b[0m \u001b[0merr\u001b[0m\u001b[0;34m\u001b[0m\u001b[0;34m\u001b[0m\u001b[0m\n\u001b[0m\u001b[1;32m   3813\u001b[0m         \u001b[0;32mexcept\u001b[0m \u001b[0mTypeError\u001b[0m\u001b[0;34m:\u001b[0m\u001b[0;34m\u001b[0m\u001b[0;34m\u001b[0m\u001b[0m\n\u001b[1;32m   3814\u001b[0m             \u001b[0;31m# If we have a listlike key, _check_indexing_error will raise\u001b[0m\u001b[0;34m\u001b[0m\u001b[0;34m\u001b[0m\u001b[0m\n",
            "\u001b[0;31mKeyError\u001b[0m: 'Barnet'"
          ]
        }
      ]
    },
    {
      "cell_type": "code",
      "source": [
        "# prompt: code to replace some words in the csv with another words from the same csv file.\n",
        "import pandas as pd\n",
        "\n",
        "def replace_words_from_csv(input_filepath, replacements_filepath, output_filepath):\n",
        "    try:\n",
        "        # Read the CSV files into pandas DataFrames\n",
        "        input_df = pd.read_csv(input_filepath)\n",
        "        replacements_df = pd.read_csv(replacements_filepath)\n",
        "\n",
        "        # Create a dictionary for efficient word replacement\n",
        "        replacements_dict = dict(zip(replacements_df['Barnet'], replacements_df['Client A']))\n",
        "\n",
        "        # Apply replacements to all columns of the input DataFrame\n",
        "        for column in input_df.columns:\n",
        "            input_df[column] = input_df[column].astype(str).replace(replacements_dict, regex=False)\n",
        "\n",
        "        # Save the modified DataFrame to a new CSV file\n",
        "        input_df.to_csv(output_filepath, index=False)\n",
        "        print(f\"Successfully replaced words and saved to {output_filepath}\")\n",
        "\n",
        "    except FileNotFoundError:\n",
        "        print(f\"Error: One or both of the input files not found.\")\n",
        "    except KeyError as e:\n",
        "        print(f\"Error: Required column not found in replacements file: {e}\")\n",
        "    except Exception as e:\n",
        "        print(f\"An unexpected error occurred: {e}\")\n",
        "\n",
        "# Example usage (assuming the files exist in the current directory)\n",
        "replace_words_from_csv(\"/content/Barnet.csv\", \"/content/ClientA.csv\", \"/content/output.csv\") #Changed output file name to avoid overwriting"
      ],
      "metadata": {
        "colab": {
          "base_uri": "https://localhost:8080/"
        },
        "id": "D1jyh9HU4Iqv",
        "outputId": "725246c4-b6bc-4b9a-b7c6-2751d75a360e"
      },
      "execution_count": 2,
      "outputs": [
        {
          "output_type": "stream",
          "name": "stdout",
          "text": [
            "Error: Required column not found in replacements file: 'Barnet'\n"
          ]
        }
      ]
    },
    {
      "cell_type": "code",
      "source": [
        "import pandas as pd\n",
        "\n",
        "def replace_words_from_csv(input_filepath, replacement_word, output_filepath):\n",
        "    try:\n",
        "        # Read the CSV file\n",
        "        input_df = pd.read_csv(input_filepath)\n",
        "\n",
        "        # Replace the word in all columns\n",
        "        input_df = input_df.replace(replacement_word, 'ClientB')\n",
        "\n",
        "        # Save the modified DataFrame to a new CSV file\n",
        "        input_df.to_csv(output_filepath, index=False)\n",
        "        print(f\"Successfully replaced words and saved to {output_filepath}\")\n",
        "\n",
        "    except FileNotFoundError:\n",
        "        print(f\"Error: Input file not found: {input_filepath}\")\n",
        "    except Exception as e:\n",
        "        print(f\"An unexpected error occurred: {e}\")\n",
        "\n",
        "# Example usage\n",
        "replace_words_from_csv(\"Amana.csv\", \"Amana\", \"ClientB.csv\")"
      ],
      "metadata": {
        "colab": {
          "base_uri": "https://localhost:8080/"
        },
        "id": "o4WA76_rKD6G",
        "outputId": "b2807af5-2dc5-4388-b7ed-54c7d317c436"
      },
      "execution_count": 3,
      "outputs": [
        {
          "output_type": "stream",
          "name": "stdout",
          "text": [
            "Successfully replaced words and saved to ClientA.csv\n"
          ]
        }
      ]
    },
    {
      "cell_type": "code",
      "source": [
        "import pandas as pd\n",
        "import re\n",
        "\n",
        "def replace_words_from_csv(input_filepath, replacement_word, output_filepath):\n",
        "    try:\n",
        "        # Read the CSV file\n",
        "        input_df = pd.read_csv(input_filepath)\n",
        "\n",
        "        # Replace the word using regular expressions\n",
        "        input_df = input_df.replace(to_replace=r'\\b' + replacement_word + r'\\b', value='ClientB', regex=True)\n",
        "\n",
        "        # Save the modified DataFrame to a new CSV file\n",
        "        input_df.to_csv(output_filepath, index=False)\n",
        "        print(f\"Successfully replaced words and saved to {output_filepath}\")\n",
        "\n",
        "    except FileNotFoundError:\n",
        "        print(f\"Error: Input file not found: {input_filepath}\")\n",
        "    except Exception as e:\n",
        "        print(f\"An unexpected error occurred: {e}\")\n",
        "\n",
        "# Example usage\n",
        "replace_words_from_csv(\"Amana.csv\", \"AMANA\", \"ClientB.csv\")"
      ],
      "metadata": {
        "colab": {
          "base_uri": "https://localhost:8080/"
        },
        "id": "hi6Y18vZMj4s",
        "outputId": "7b7b47c3-c855-47e0-cca1-113e7a9e4ff1"
      },
      "execution_count": 7,
      "outputs": [
        {
          "output_type": "stream",
          "name": "stdout",
          "text": [
            "Successfully replaced words and saved to ClientB.csv\n"
          ]
        }
      ]
    },
    {
      "cell_type": "code",
      "source": [],
      "metadata": {
        "id": "Vzs97qWfM2_5"
      },
      "execution_count": null,
      "outputs": []
    }
  ]
}