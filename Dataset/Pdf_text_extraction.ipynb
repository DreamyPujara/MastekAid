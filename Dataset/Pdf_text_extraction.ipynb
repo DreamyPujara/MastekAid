{
  "nbformat": 4,
  "nbformat_minor": 0,
  "metadata": {
    "colab": {
      "provenance": [],
      "gpuType": "T4"
    },
    "kernelspec": {
      "name": "python3",
      "display_name": "Python 3"
    },
    "language_info": {
      "name": "python"
    },
    "accelerator": "GPU"
  },
  "cells": [
    {
      "cell_type": "code",
      "execution_count": 1,
      "metadata": {
        "colab": {
          "base_uri": "https://localhost:8080/"
        },
        "id": "WZZdfGDRpGgG",
        "outputId": "09028f20-a85b-40df-fc7c-acc6ecdf37be"
      },
      "outputs": [
        {
          "output_type": "stream",
          "name": "stdout",
          "text": [
            "Collecting PyPDF2\n",
            "  Downloading pypdf2-3.0.1-py3-none-any.whl.metadata (6.8 kB)\n",
            "Downloading pypdf2-3.0.1-py3-none-any.whl (232 kB)\n",
            "\u001b[?25l   \u001b[90m━━━━━━━━━━━━━━━━━━━━━━━━━━━━━━━━━━━━━━━━\u001b[0m \u001b[32m0.0/232.6 kB\u001b[0m \u001b[31m?\u001b[0m eta \u001b[36m-:--:--\u001b[0m\r\u001b[2K   \u001b[90m━━━━━━━━━━━━━━━━━━━━━━━━━━━━━━━━━━━━━━━━\u001b[0m \u001b[32m232.6/232.6 kB\u001b[0m \u001b[31m14.7 MB/s\u001b[0m eta \u001b[36m0:00:00\u001b[0m\n",
            "\u001b[?25hInstalling collected packages: PyPDF2\n",
            "Successfully installed PyPDF2-3.0.1\n"
          ]
        }
      ],
      "source": [
        "!pip install PyPDF2"
      ]
    },
    {
      "cell_type": "code",
      "source": [
        "import PyPDF2\n",
        "import csv\n",
        "\n",
        "def extract_text_and_create_csv(pdf_path, csv_path):\n",
        "    with open(pdf_path, 'rb') as file:\n",
        "        reader = PyPDF2.PdfReader(file)\n",
        "        text = ''\n",
        "        for page_num in range(len(reader.pages)):\n",
        "            page = reader.pages[page_num]\n",
        "            text += page.extract_text()\n",
        "\n",
        "    # Assuming you want each page as a separate row in the CSV\n",
        "    with open(csv_path, 'w', newline='') as csvfile:\n",
        "        fieldnames = ['page_number', 'text']\n",
        "        writer = csv.DictWriter(csvfile, fieldnames=fieldnames)\n",
        "        writer.writeheader()\n",
        "\n",
        "        for page_num, page_text in enumerate(text.split('\\n\\n')):\n",
        "            writer.writerow({'page_number': page_num + 1, 'text': page_text})\n",
        "\n",
        "# Example usage:\n",
        "pdf_file = '/content/Amana_ORC_Implementation_SDD1_V1.6 (3).pdf'\n",
        "csv_file = '/content/Amana.csv'\n",
        "extract_text_and_create_csv(pdf_file, csv_file)"
      ],
      "metadata": {
        "id": "oM3wYy5tpfFQ"
      },
      "execution_count": 4,
      "outputs": []
    },
    {
      "cell_type": "code",
      "source": [],
      "metadata": {
        "id": "xRwOZPtIp6BR"
      },
      "execution_count": null,
      "outputs": []
    }
  ]
}